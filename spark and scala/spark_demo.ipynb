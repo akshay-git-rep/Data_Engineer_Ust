{
 "cells": [
  {
   "cell_type": "code",
   "execution_count": 92,
   "id": "1da30f2f-61e6-48c5-9a15-2ad864200c3b",
   "metadata": {},
   "outputs": [],
   "source": [
    "import findspark\n",
    "findspark.init()\n",
    "\n",
    "from pyspark.sql import SparkSession\n",
    "spark = SparkSession.builder.appName(\"Data Analysis using Pyspark\")\\\n",
    ".config(\"spark.memory.offHeap.enabled\",\"true\").config(\"spark.memory.offHeap.size\",\"20g\").getOrCreate()"
   ]
  },
  {
   "cell_type": "code",
   "execution_count": 93,
   "id": "c65edc0e-bd8e-429e-bf7c-1508229d187f",
   "metadata": {},
   "outputs": [],
   "source": [
    "df =spark.read.csv(\"Online_Retail.csv\",header=True, escape=\"\\\"\")"
   ]
  },
  {
   "cell_type": "code",
   "execution_count": 94,
   "id": "dca28d37-73bb-4f4b-a465-a3e6e1c53404",
   "metadata": {},
   "outputs": [
    {
     "name": "stdout",
     "output_type": "stream",
     "text": [
      "+---------+---------+-----------------------------------+--------+----------------+---------+----------+--------------+\n",
      "|InvoiceNo|StockCode|Description                        |Quantity|InvoiceDate     |UnitPrice|CustomerID|Country       |\n",
      "+---------+---------+-----------------------------------+--------+----------------+---------+----------+--------------+\n",
      "|536365   |85123A   |WHITE HANGING HEART T-LIGHT HOLDER |6       |01-12-2010 08:26|2.55     |17850     |United Kingdom|\n",
      "|536365   |71053    |WHITE METAL LANTERN                |6       |01-12-2010 08:26|3.39     |17850     |United Kingdom|\n",
      "|536365   |84406B   |CREAM CUPID HEARTS COAT HANGER     |8       |01-12-2010 08:26|2.75     |17850     |United Kingdom|\n",
      "|536365   |84029G   |KNITTED UNION FLAG HOT WATER BOTTLE|6       |01-12-2010 08:26|3.39     |17850     |United Kingdom|\n",
      "|536365   |84029E   |RED WOOLLY HOTTIE WHITE HEART.     |6       |01-12-2010 08:26|3.39     |17850     |United Kingdom|\n",
      "+---------+---------+-----------------------------------+--------+----------------+---------+----------+--------------+\n",
      "only showing top 5 rows\n",
      "\n"
     ]
    }
   ],
   "source": [
    "df.show(5,0)"
   ]
  },
  {
   "cell_type": "code",
   "execution_count": 95,
   "id": "1af8e217-5f35-4184-9b4a-73171f2f4b7a",
   "metadata": {},
   "outputs": [
    {
     "data": {
      "text/plain": [
       "541909"
      ]
     },
     "execution_count": 95,
     "metadata": {},
     "output_type": "execute_result"
    }
   ],
   "source": [
    "df.count()"
   ]
  },
  {
   "cell_type": "code",
   "execution_count": 96,
   "id": "90a06408-6001-4fd9-b28f-fd90b88015d4",
   "metadata": {},
   "outputs": [
    {
     "data": {
      "text/plain": [
       "4373"
      ]
     },
     "execution_count": 96,
     "metadata": {},
     "output_type": "execute_result"
    }
   ],
   "source": [
    "df.select('CustomerID').distinct().count()"
   ]
  },
  {
   "cell_type": "code",
   "execution_count": 97,
   "id": "878d1774-7371-415c-a4d7-14ad48969d7d",
   "metadata": {},
   "outputs": [
    {
     "data": {
      "text/plain": [
       "Row(InvoiceNo='536365', StockCode='85123A', Description='WHITE HANGING HEART T-LIGHT HOLDER', Quantity='6', InvoiceDate='01-12-2010 08:26', UnitPrice='2.55', CustomerID='17850', Country='United Kingdom')"
      ]
     },
     "execution_count": 97,
     "metadata": {},
     "output_type": "execute_result"
    }
   ],
   "source": [
    "df.head()"
   ]
  },
  {
   "cell_type": "code",
   "execution_count": 98,
   "id": "bf11abdb-fab0-4657-9308-c8186ef26d97",
   "metadata": {},
   "outputs": [
    {
     "name": "stdout",
     "output_type": "stream",
     "text": [
      "+------------------+-------------+\n",
      "|           Country|country_count|\n",
      "+------------------+-------------+\n",
      "|            Sweden|            8|\n",
      "|         Singapore|            1|\n",
      "|           Germany|           95|\n",
      "|               RSA|            1|\n",
      "|            France|           87|\n",
      "|            Greece|            4|\n",
      "|European Community|            1|\n",
      "|           Belgium|           25|\n",
      "|           Finland|           12|\n",
      "|             Malta|            2|\n",
      "|       Unspecified|            4|\n",
      "|             Italy|           15|\n",
      "|              EIRE|            3|\n",
      "|         Lithuania|            1|\n",
      "|            Norway|           10|\n",
      "|             Spain|           31|\n",
      "|           Denmark|            9|\n",
      "|         Hong Kong|            0|\n",
      "|            Israel|            4|\n",
      "|           Iceland|            1|\n",
      "+------------------+-------------+\n",
      "only showing top 20 rows\n",
      "\n"
     ]
    }
   ],
   "source": [
    "from pyspark.sql.functions import *\n",
    "from pyspark.sql.types import *\n",
    "\n",
    "df.groupBy('Country').agg(countDistinct('CustomerID').alias('country_count')).show()"
   ]
  },
  {
   "cell_type": "code",
   "execution_count": 99,
   "id": "d3cc2b95-cce4-4ceb-94c1-6268834c6147",
   "metadata": {},
   "outputs": [
    {
     "name": "stdout",
     "output_type": "stream",
     "text": [
      "+---------------+-------------+\n",
      "|        Country|country_count|\n",
      "+---------------+-------------+\n",
      "| United Kingdom|         3950|\n",
      "|        Germany|           95|\n",
      "|         France|           87|\n",
      "|          Spain|           31|\n",
      "|        Belgium|           25|\n",
      "|    Switzerland|           21|\n",
      "|       Portugal|           19|\n",
      "|          Italy|           15|\n",
      "|        Finland|           12|\n",
      "|        Austria|           11|\n",
      "|         Norway|           10|\n",
      "|        Denmark|            9|\n",
      "|Channel Islands|            9|\n",
      "|      Australia|            9|\n",
      "|    Netherlands|            9|\n",
      "|         Sweden|            8|\n",
      "|         Cyprus|            8|\n",
      "|          Japan|            8|\n",
      "|         Poland|            6|\n",
      "|         Greece|            4|\n",
      "+---------------+-------------+\n",
      "only showing top 20 rows\n",
      "\n"
     ]
    }
   ],
   "source": [
    " df.groupBy('Country').agg(countDistinct('CustomerID').alias('country_count')).orderBy(desc('country_count')).show()"
   ]
  },
  {
   "cell_type": "code",
   "execution_count": 100,
   "id": "4bf11554-9638-410c-9a33-c1510067c1b2",
   "metadata": {},
   "outputs": [
    {
     "name": "stdout",
     "output_type": "stream",
     "text": [
      "+---------+\n",
      "|max(date)|\n",
      "+---------+\n",
      "|     NULL|\n",
      "+---------+\n",
      "\n"
     ]
    }
   ],
   "source": [
    "#when was the most recent purchase made by a customer on the E-commerce platform\n",
    "\n",
    "#set the legacy time parser polidy\n",
    "spark.sql(\"set spark.sql.legacy.timeParserPolicy=LEGACY\")\n",
    "#convert invoice date to correct format\n",
    "df = df.withColumn('date',to_timestamp(\"InvoiceDate\",'yy/MM/dd HH:mm'))\n",
    "df.select(max(\"date\")).show()"
   ]
  },
  {
   "cell_type": "code",
   "execution_count": 101,
   "id": "18363c62-e6de-40a8-87e2-e2acd430a365",
   "metadata": {},
   "outputs": [
    {
     "name": "stdout",
     "output_type": "stream",
     "text": [
      "+----------------+\n",
      "|max(InvoiceDate)|\n",
      "+----------------+\n",
      "|31-10-2011 17:19|\n",
      "+----------------+\n",
      "\n"
     ]
    }
   ],
   "source": [
    "df.select(max(\"InvoiceDate\")).show()"
   ]
  },
  {
   "cell_type": "code",
   "execution_count": 102,
   "id": "74396544-de9d-4f91-83f4-a92dc6a38907",
   "metadata": {},
   "outputs": [
    {
     "name": "stdout",
     "output_type": "stream",
     "text": [
      "+---------+---------+--------------------+--------+----------------+---------+----------+--------------+----+----------------+\n",
      "|InvoiceNo|StockCode|         Description|Quantity|     InvoiceDate|UnitPrice|CustomerID|       Country|date|       from_date|\n",
      "+---------+---------+--------------------+--------+----------------+---------+----------+--------------+----+----------------+\n",
      "|   536365|   85123A|WHITE HANGING HEA...|       6|01-12-2010 08:26|     2.55|     17850|United Kingdom|NULL|31-10-2011 17:19|\n",
      "|   536365|    71053| WHITE METAL LANTERN|       6|01-12-2010 08:26|     3.39|     17850|United Kingdom|NULL|31-10-2011 17:19|\n",
      "|   536365|   84406B|CREAM CUPID HEART...|       8|01-12-2010 08:26|     2.75|     17850|United Kingdom|NULL|31-10-2011 17:19|\n",
      "|   536365|   84029G|KNITTED UNION FLA...|       6|01-12-2010 08:26|     3.39|     17850|United Kingdom|NULL|31-10-2011 17:19|\n",
      "|   536365|   84029E|RED WOOLLY HOTTIE...|       6|01-12-2010 08:26|     3.39|     17850|United Kingdom|NULL|31-10-2011 17:19|\n",
      "+---------+---------+--------------------+--------+----------------+---------+----------+--------------+----+----------------+\n",
      "only showing top 5 rows\n",
      "\n"
     ]
    }
   ],
   "source": [
    "#Calculate recency\n",
    "df = df.withColumn(\"from_date\",lit(\"31-10-2011 17:19\"))\n",
    "df.show(5)"
   ]
  },
  {
   "cell_type": "code",
   "execution_count": 103,
   "id": "597699c5-4b37-4eb1-b5e7-141df8ac379d",
   "metadata": {},
   "outputs": [
    {
     "name": "stdout",
     "output_type": "stream",
     "text": [
      "+---------+---------+--------------------+--------+----------------+---------+----------+--------------+----+---------+-------+\n",
      "|InvoiceNo|StockCode|         Description|Quantity|     InvoiceDate|UnitPrice|CustomerID|       Country|date|from_date|recency|\n",
      "+---------+---------+--------------------+--------+----------------+---------+----------+--------------+----+---------+-------+\n",
      "|   536365|   85123A|WHITE HANGING HEA...|       6|01-12-2010 08:26|     2.55|     17850|United Kingdom|NULL|     NULL|   NULL|\n",
      "|   536365|    71053| WHITE METAL LANTERN|       6|01-12-2010 08:26|     3.39|     17850|United Kingdom|NULL|     NULL|   NULL|\n",
      "|   536365|   84406B|CREAM CUPID HEART...|       8|01-12-2010 08:26|     2.75|     17850|United Kingdom|NULL|     NULL|   NULL|\n",
      "|   536365|   84029G|KNITTED UNION FLA...|       6|01-12-2010 08:26|     3.39|     17850|United Kingdom|NULL|     NULL|   NULL|\n",
      "|   536365|   84029E|RED WOOLLY HOTTIE...|       6|01-12-2010 08:26|     3.39|     17850|United Kingdom|NULL|     NULL|   NULL|\n",
      "|   536365|    22752|SET 7 BABUSHKA NE...|       2|01-12-2010 08:26|     7.65|     17850|United Kingdom|NULL|     NULL|   NULL|\n",
      "|   536365|    21730|GLASS STAR FROSTE...|       6|01-12-2010 08:26|     4.25|     17850|United Kingdom|NULL|     NULL|   NULL|\n",
      "|   536366|    22633|HAND WARMER UNION...|       6|01-12-2010 08:28|     1.85|     17850|United Kingdom|NULL|     NULL|   NULL|\n",
      "|   536366|    22632|HAND WARMER RED P...|       6|01-12-2010 08:28|     1.85|     17850|United Kingdom|NULL|     NULL|   NULL|\n",
      "|   536367|    84879|ASSORTED COLOUR B...|      32|01-12-2010 08:34|     1.69|     13047|United Kingdom|NULL|     NULL|   NULL|\n",
      "|   536367|    22745|POPPY'S PLAYHOUSE...|       6|01-12-2010 08:34|      2.1|     13047|United Kingdom|NULL|     NULL|   NULL|\n",
      "|   536367|    22748|POPPY'S PLAYHOUSE...|       6|01-12-2010 08:34|      2.1|     13047|United Kingdom|NULL|     NULL|   NULL|\n",
      "|   536367|    22749|FELTCRAFT PRINCES...|       8|01-12-2010 08:34|     3.75|     13047|United Kingdom|NULL|     NULL|   NULL|\n",
      "|   536367|    22310|IVORY KNITTED MUG...|       6|01-12-2010 08:34|     1.65|     13047|United Kingdom|NULL|     NULL|   NULL|\n",
      "|   536367|    84969|BOX OF 6 ASSORTED...|       6|01-12-2010 08:34|     4.25|     13047|United Kingdom|NULL|     NULL|   NULL|\n",
      "|   536367|    22623|BOX OF VINTAGE JI...|       3|01-12-2010 08:34|     4.95|     13047|United Kingdom|NULL|     NULL|   NULL|\n",
      "|   536367|    22622|BOX OF VINTAGE AL...|       2|01-12-2010 08:34|     9.95|     13047|United Kingdom|NULL|     NULL|   NULL|\n",
      "|   536367|    21754|HOME BUILDING BLO...|       3|01-12-2010 08:34|     5.95|     13047|United Kingdom|NULL|     NULL|   NULL|\n",
      "|   536367|    21755|LOVE BUILDING BLO...|       3|01-12-2010 08:34|     5.95|     13047|United Kingdom|NULL|     NULL|   NULL|\n",
      "|   536367|    21777|RECIPE BOX WITH M...|       4|01-12-2010 08:34|     7.95|     13047|United Kingdom|NULL|     NULL|   NULL|\n",
      "+---------+---------+--------------------+--------+----------------+---------+----------+--------------+----+---------+-------+\n",
      "only showing top 20 rows\n",
      "\n"
     ]
    }
   ],
   "source": [
    "df = df.withColumn('from_date',to_timestamp(\"from_date\",'yy/MM/dd HH:mm'))\n",
    "df = df.withColumn('from_date',to_timestamp(col('from_date'))).withColumn('recency',col(\"from_date\").cast(\"long\")-col('from_date').cast(\"long\"))\n",
    "df.show()"
   ]
  },
  {
   "cell_type": "code",
   "execution_count": 104,
   "id": "5a030fe8-79ad-47e2-a8d7-6956bd702014",
   "metadata": {},
   "outputs": [
    {
     "name": "stdout",
     "output_type": "stream",
     "text": [
      "root\n",
      " |-- InvoiceNo: string (nullable = true)\n",
      " |-- StockCode: string (nullable = true)\n",
      " |-- Description: string (nullable = true)\n",
      " |-- Quantity: string (nullable = true)\n",
      " |-- InvoiceDate: string (nullable = true)\n",
      " |-- UnitPrice: string (nullable = true)\n",
      " |-- CustomerID: string (nullable = true)\n",
      " |-- Country: string (nullable = true)\n",
      "\n"
     ]
    }
   ],
   "source": [
    "df = df.drop(\"date\")\n",
    "df = df.drop(\"from_date\")\n",
    "df = df.drop(\"recency\")\n",
    "\n",
    "df.printSchema()"
   ]
  },
  {
   "cell_type": "code",
   "execution_count": 105,
   "id": "a9baf3d7-7a54-45d1-b27d-40cbafcf6eda",
   "metadata": {},
   "outputs": [
    {
     "name": "stdout",
     "output_type": "stream",
     "text": [
      "+---------+---------+--------------------+--------+----------------+---------+----------+--------------+\n",
      "|InvoiceNo|StockCode|         Description|Quantity|     InvoiceDate|UnitPrice|CustomerID|       Country|\n",
      "+---------+---------+--------------------+--------+----------------+---------+----------+--------------+\n",
      "|   536365|   85123A|WHITE HANGING HEA...|       6|01-12-2010 08:26|     2.55|     17850|United Kingdom|\n",
      "|   536365|    71053| WHITE METAL LANTERN|       6|01-12-2010 08:26|     3.39|     17850|United Kingdom|\n",
      "|   536365|   84406B|CREAM CUPID HEART...|       8|01-12-2010 08:26|     2.75|     17850|United Kingdom|\n",
      "|   536365|   84029G|KNITTED UNION FLA...|       6|01-12-2010 08:26|     3.39|     17850|United Kingdom|\n",
      "|   536365|   84029E|RED WOOLLY HOTTIE...|       6|01-12-2010 08:26|     3.39|     17850|United Kingdom|\n",
      "|   536365|    22752|SET 7 BABUSHKA NE...|       2|01-12-2010 08:26|     7.65|     17850|United Kingdom|\n",
      "|   536365|    21730|GLASS STAR FROSTE...|       6|01-12-2010 08:26|     4.25|     17850|United Kingdom|\n",
      "|   536366|    22633|HAND WARMER UNION...|       6|01-12-2010 08:28|     1.85|     17850|United Kingdom|\n",
      "|   536366|    22632|HAND WARMER RED P...|       6|01-12-2010 08:28|     1.85|     17850|United Kingdom|\n",
      "|   536367|    84879|ASSORTED COLOUR B...|      32|01-12-2010 08:34|     1.69|     13047|United Kingdom|\n",
      "|   536367|    22745|POPPY'S PLAYHOUSE...|       6|01-12-2010 08:34|      2.1|     13047|United Kingdom|\n",
      "|   536367|    22748|POPPY'S PLAYHOUSE...|       6|01-12-2010 08:34|      2.1|     13047|United Kingdom|\n",
      "|   536367|    22749|FELTCRAFT PRINCES...|       8|01-12-2010 08:34|     3.75|     13047|United Kingdom|\n",
      "|   536367|    22310|IVORY KNITTED MUG...|       6|01-12-2010 08:34|     1.65|     13047|United Kingdom|\n",
      "|   536367|    84969|BOX OF 6 ASSORTED...|       6|01-12-2010 08:34|     4.25|     13047|United Kingdom|\n",
      "|   536367|    22623|BOX OF VINTAGE JI...|       3|01-12-2010 08:34|     4.95|     13047|United Kingdom|\n",
      "|   536367|    22622|BOX OF VINTAGE AL...|       2|01-12-2010 08:34|     9.95|     13047|United Kingdom|\n",
      "|   536367|    21754|HOME BUILDING BLO...|       3|01-12-2010 08:34|     5.95|     13047|United Kingdom|\n",
      "|   536367|    21755|LOVE BUILDING BLO...|       3|01-12-2010 08:34|     5.95|     13047|United Kingdom|\n",
      "|   536367|    21777|RECIPE BOX WITH M...|       4|01-12-2010 08:34|     7.95|     13047|United Kingdom|\n",
      "+---------+---------+--------------------+--------+----------------+---------+----------+--------------+\n",
      "only showing top 20 rows\n",
      "\n"
     ]
    }
   ],
   "source": [
    "df.show()"
   ]
  },
  {
   "cell_type": "code",
   "execution_count": 106,
   "id": "75471466-443b-4bf0-810b-52f08c2da24b",
   "metadata": {},
   "outputs": [
    {
     "name": "stdout",
     "output_type": "stream",
     "text": [
      "+--------+---------+---------+--------------------+----------------+---------+----------+--------------+\n",
      "|Quantity|InvoiceNo|StockCode|         Description|     InvoiceDate|UnitPrice|CustomerID|       Country|\n",
      "+--------+---------+---------+--------------------+----------------+---------+----------+--------------+\n",
      "|       6|   536365|   85123A|WHITE HANGING HEA...|01-12-2010 08:26|     2.55|     17850|United Kingdom|\n",
      "|       6|   536365|    71053| WHITE METAL LANTERN|01-12-2010 08:26|     3.39|     17850|United Kingdom|\n",
      "|       8|   536365|   84406B|CREAM CUPID HEART...|01-12-2010 08:26|     2.75|     17850|United Kingdom|\n",
      "|       6|   536365|   84029G|KNITTED UNION FLA...|01-12-2010 08:26|     3.39|     17850|United Kingdom|\n",
      "|       6|   536365|   84029E|RED WOOLLY HOTTIE...|01-12-2010 08:26|     3.39|     17850|United Kingdom|\n",
      "|       2|   536365|    22752|SET 7 BABUSHKA NE...|01-12-2010 08:26|     7.65|     17850|United Kingdom|\n",
      "|       6|   536365|    21730|GLASS STAR FROSTE...|01-12-2010 08:26|     4.25|     17850|United Kingdom|\n",
      "|       6|   536366|    22633|HAND WARMER UNION...|01-12-2010 08:28|     1.85|     17850|United Kingdom|\n",
      "|       6|   536366|    22632|HAND WARMER RED P...|01-12-2010 08:28|     1.85|     17850|United Kingdom|\n",
      "|      32|   536367|    84879|ASSORTED COLOUR B...|01-12-2010 08:34|     1.69|     13047|United Kingdom|\n",
      "|       6|   536367|    22745|POPPY'S PLAYHOUSE...|01-12-2010 08:34|      2.1|     13047|United Kingdom|\n",
      "|       6|   536367|    22748|POPPY'S PLAYHOUSE...|01-12-2010 08:34|      2.1|     13047|United Kingdom|\n",
      "|       8|   536367|    22749|FELTCRAFT PRINCES...|01-12-2010 08:34|     3.75|     13047|United Kingdom|\n",
      "|       6|   536367|    22310|IVORY KNITTED MUG...|01-12-2010 08:34|     1.65|     13047|United Kingdom|\n",
      "|       6|   536367|    84969|BOX OF 6 ASSORTED...|01-12-2010 08:34|     4.25|     13047|United Kingdom|\n",
      "|       3|   536367|    22623|BOX OF VINTAGE JI...|01-12-2010 08:34|     4.95|     13047|United Kingdom|\n",
      "|       2|   536367|    22622|BOX OF VINTAGE AL...|01-12-2010 08:34|     9.95|     13047|United Kingdom|\n",
      "|       3|   536367|    21754|HOME BUILDING BLO...|01-12-2010 08:34|     5.95|     13047|United Kingdom|\n",
      "|       3|   536367|    21755|LOVE BUILDING BLO...|01-12-2010 08:34|     5.95|     13047|United Kingdom|\n",
      "|       4|   536367|    21777|RECIPE BOX WITH M...|01-12-2010 08:34|     7.95|     13047|United Kingdom|\n",
      "+--------+---------+---------+--------------------+----------------+---------+----------+--------------+\n",
      "only showing top 20 rows\n",
      "\n"
     ]
    }
   ],
   "source": [
    "df =df.join(df.groupBy('CustomerID').agg(max('Quantity').alias('Quantity')),on='Quantity',how='leftsemi')\n",
    "df.show()\n"
   ]
  },
  {
   "cell_type": "code",
   "execution_count": 107,
   "id": "8ea29eb4-d536-4f40-b4ab-a1300020a362",
   "metadata": {},
   "outputs": [
    {
     "name": "stdout",
     "output_type": "stream",
     "text": [
      "+---------+--------+---------+---------+--------------------+----------------+----------+--------------+\n",
      "|UnitPrice|Quantity|InvoiceNo|StockCode|         Description|     InvoiceDate|CustomerID|       Country|\n",
      "+---------+--------+---------+---------+--------------------+----------------+----------+--------------+\n",
      "|     2.55|       6|   536365|   85123A|WHITE HANGING HEA...|01-12-2010 08:26|     17850|United Kingdom|\n",
      "|     3.39|       6|   536365|    71053| WHITE METAL LANTERN|01-12-2010 08:26|     17850|United Kingdom|\n",
      "|     2.75|       8|   536365|   84406B|CREAM CUPID HEART...|01-12-2010 08:26|     17850|United Kingdom|\n",
      "|     3.39|       6|   536365|   84029G|KNITTED UNION FLA...|01-12-2010 08:26|     17850|United Kingdom|\n",
      "|     3.39|       6|   536365|   84029E|RED WOOLLY HOTTIE...|01-12-2010 08:26|     17850|United Kingdom|\n",
      "|     7.65|       2|   536365|    22752|SET 7 BABUSHKA NE...|01-12-2010 08:26|     17850|United Kingdom|\n",
      "|     4.25|       6|   536365|    21730|GLASS STAR FROSTE...|01-12-2010 08:26|     17850|United Kingdom|\n",
      "|     1.85|       6|   536366|    22633|HAND WARMER UNION...|01-12-2010 08:28|     17850|United Kingdom|\n",
      "|     1.85|       6|   536366|    22632|HAND WARMER RED P...|01-12-2010 08:28|     17850|United Kingdom|\n",
      "|     1.69|      32|   536367|    84879|ASSORTED COLOUR B...|01-12-2010 08:34|     13047|United Kingdom|\n",
      "|      2.1|       6|   536367|    22745|POPPY'S PLAYHOUSE...|01-12-2010 08:34|     13047|United Kingdom|\n",
      "|      2.1|       6|   536367|    22748|POPPY'S PLAYHOUSE...|01-12-2010 08:34|     13047|United Kingdom|\n",
      "|     3.75|       8|   536367|    22749|FELTCRAFT PRINCES...|01-12-2010 08:34|     13047|United Kingdom|\n",
      "|     1.65|       6|   536367|    22310|IVORY KNITTED MUG...|01-12-2010 08:34|     13047|United Kingdom|\n",
      "|     4.25|       6|   536367|    84969|BOX OF 6 ASSORTED...|01-12-2010 08:34|     13047|United Kingdom|\n",
      "|     4.95|       3|   536367|    22623|BOX OF VINTAGE JI...|01-12-2010 08:34|     13047|United Kingdom|\n",
      "|     9.95|       2|   536367|    22622|BOX OF VINTAGE AL...|01-12-2010 08:34|     13047|United Kingdom|\n",
      "|     5.95|       3|   536367|    21754|HOME BUILDING BLO...|01-12-2010 08:34|     13047|United Kingdom|\n",
      "|     5.95|       3|   536367|    21755|LOVE BUILDING BLO...|01-12-2010 08:34|     13047|United Kingdom|\n",
      "|     7.95|       4|   536367|    21777|RECIPE BOX WITH M...|01-12-2010 08:34|     13047|United Kingdom|\n",
      "+---------+--------+---------+---------+--------------------+----------------+----------+--------------+\n",
      "only showing top 20 rows\n",
      "\n"
     ]
    }
   ],
   "source": [
    "df = df.join(df.groupBy('UnitPrice').agg(max('UnitPrice').alias('UnitPrice')), on='UnitPrice', how='leftsemi')\n",
    "df.show()"
   ]
  },
  {
   "cell_type": "code",
   "execution_count": 108,
   "id": "41866205-a7fd-40aa-9117-65d31444092f",
   "metadata": {},
   "outputs": [
    {
     "name": "stdout",
     "output_type": "stream",
     "text": [
      "+---------+--------+---------+---------+--------------------+----------------+----------+--------------+\n",
      "|UnitPrice|Quantity|InvoiceNo|StockCode|         Description|     InvoiceDate|CustomerID|       Country|\n",
      "+---------+--------+---------+---------+--------------------+----------------+----------+--------------+\n",
      "|     2.55|       6|   536365|   85123A|WHITE HANGING HEA...|01-12-2010 08:26|     17850|United Kingdom|\n",
      "|     3.39|       6|   536365|    71053| WHITE METAL LANTERN|01-12-2010 08:26|     17850|United Kingdom|\n",
      "|     2.75|       8|   536365|   84406B|CREAM CUPID HEART...|01-12-2010 08:26|     17850|United Kingdom|\n",
      "|     3.39|       6|   536365|   84029G|KNITTED UNION FLA...|01-12-2010 08:26|     17850|United Kingdom|\n",
      "|     3.39|       6|   536365|   84029E|RED WOOLLY HOTTIE...|01-12-2010 08:26|     17850|United Kingdom|\n",
      "|     7.65|       2|   536365|    22752|SET 7 BABUSHKA NE...|01-12-2010 08:26|     17850|United Kingdom|\n",
      "|     4.25|       6|   536365|    21730|GLASS STAR FROSTE...|01-12-2010 08:26|     17850|United Kingdom|\n",
      "|     1.85|       6|   536366|    22633|HAND WARMER UNION...|01-12-2010 08:28|     17850|United Kingdom|\n",
      "|     1.85|       6|   536366|    22632|HAND WARMER RED P...|01-12-2010 08:28|     17850|United Kingdom|\n",
      "|     1.69|      32|   536367|    84879|ASSORTED COLOUR B...|01-12-2010 08:34|     13047|United Kingdom|\n",
      "|      2.1|       6|   536367|    22745|POPPY'S PLAYHOUSE...|01-12-2010 08:34|     13047|United Kingdom|\n",
      "|      2.1|       6|   536367|    22748|POPPY'S PLAYHOUSE...|01-12-2010 08:34|     13047|United Kingdom|\n",
      "|     3.75|       8|   536367|    22749|FELTCRAFT PRINCES...|01-12-2010 08:34|     13047|United Kingdom|\n",
      "|     1.65|       6|   536367|    22310|IVORY KNITTED MUG...|01-12-2010 08:34|     13047|United Kingdom|\n",
      "|     4.25|       6|   536367|    84969|BOX OF 6 ASSORTED...|01-12-2010 08:34|     13047|United Kingdom|\n",
      "|     4.95|       3|   536367|    22623|BOX OF VINTAGE JI...|01-12-2010 08:34|     13047|United Kingdom|\n",
      "|     9.95|       2|   536367|    22622|BOX OF VINTAGE AL...|01-12-2010 08:34|     13047|United Kingdom|\n",
      "|     5.95|       3|   536367|    21754|HOME BUILDING BLO...|01-12-2010 08:34|     13047|United Kingdom|\n",
      "|     5.95|       3|   536367|    21755|LOVE BUILDING BLO...|01-12-2010 08:34|     13047|United Kingdom|\n",
      "|     7.95|       4|   536367|    21777|RECIPE BOX WITH M...|01-12-2010 08:34|     13047|United Kingdom|\n",
      "+---------+--------+---------+---------+--------------------+----------------+----------+--------------+\n",
      "only showing top 20 rows\n",
      "\n"
     ]
    }
   ],
   "source": [
    "df_freq = df.groupBy(\"CustomerID\").agg(count(\"InvoiceDate\").alias(\"Frequency\"))\n",
    "df.show()"
   ]
  },
  {
   "cell_type": "code",
   "execution_count": 109,
   "id": "902760a1-edce-4c7f-9c13-72c8db1cdd4f",
   "metadata": {},
   "outputs": [
    {
     "name": "stdout",
     "output_type": "stream",
     "text": [
      "+----------+---------+--------+---------+---------+--------------------+----------------+--------------+---------+\n",
      "|CustomerID|UnitPrice|Quantity|InvoiceNo|StockCode|         Description|     InvoiceDate|       Country|Frequency|\n",
      "+----------+---------+--------+---------+---------+--------------------+----------------+--------------+---------+\n",
      "|     17850|     2.55|       6|   536365|   85123A|WHITE HANGING HEA...|01-12-2010 08:26|United Kingdom|      312|\n",
      "|     17850|     3.39|       6|   536365|    71053| WHITE METAL LANTERN|01-12-2010 08:26|United Kingdom|      312|\n",
      "|     17850|     2.75|       8|   536365|   84406B|CREAM CUPID HEART...|01-12-2010 08:26|United Kingdom|      312|\n",
      "|     17850|     3.39|       6|   536365|   84029G|KNITTED UNION FLA...|01-12-2010 08:26|United Kingdom|      312|\n",
      "|     17850|     3.39|       6|   536365|   84029E|RED WOOLLY HOTTIE...|01-12-2010 08:26|United Kingdom|      312|\n",
      "|     17850|     7.65|       2|   536365|    22752|SET 7 BABUSHKA NE...|01-12-2010 08:26|United Kingdom|      312|\n",
      "|     17850|     4.25|       6|   536365|    21730|GLASS STAR FROSTE...|01-12-2010 08:26|United Kingdom|      312|\n",
      "|     17850|     1.85|       6|   536366|    22633|HAND WARMER UNION...|01-12-2010 08:28|United Kingdom|      312|\n",
      "|     17850|     1.85|       6|   536366|    22632|HAND WARMER RED P...|01-12-2010 08:28|United Kingdom|      312|\n",
      "|     13047|     1.69|      32|   536367|    84879|ASSORTED COLOUR B...|01-12-2010 08:34|United Kingdom|      196|\n",
      "|     13047|      2.1|       6|   536367|    22745|POPPY'S PLAYHOUSE...|01-12-2010 08:34|United Kingdom|      196|\n",
      "|     13047|      2.1|       6|   536367|    22748|POPPY'S PLAYHOUSE...|01-12-2010 08:34|United Kingdom|      196|\n",
      "|     13047|     3.75|       8|   536367|    22749|FELTCRAFT PRINCES...|01-12-2010 08:34|United Kingdom|      196|\n",
      "|     13047|     1.65|       6|   536367|    22310|IVORY KNITTED MUG...|01-12-2010 08:34|United Kingdom|      196|\n",
      "|     13047|     4.25|       6|   536367|    84969|BOX OF 6 ASSORTED...|01-12-2010 08:34|United Kingdom|      196|\n",
      "|     13047|     4.95|       3|   536367|    22623|BOX OF VINTAGE JI...|01-12-2010 08:34|United Kingdom|      196|\n",
      "|     13047|     9.95|       2|   536367|    22622|BOX OF VINTAGE AL...|01-12-2010 08:34|United Kingdom|      196|\n",
      "|     13047|     5.95|       3|   536367|    21754|HOME BUILDING BLO...|01-12-2010 08:34|United Kingdom|      196|\n",
      "|     13047|     5.95|       3|   536367|    21755|LOVE BUILDING BLO...|01-12-2010 08:34|United Kingdom|      196|\n",
      "|     13047|     7.95|       4|   536367|    21777|RECIPE BOX WITH M...|01-12-2010 08:34|United Kingdom|      196|\n",
      "+----------+---------+--------+---------+---------+--------------------+----------------+--------------+---------+\n",
      "only showing top 20 rows\n",
      "\n"
     ]
    }
   ],
   "source": [
    "df3 = df.join(df_freq,on=\"CustomerID\",how=\"inner\")\n",
    "df3.show()"
   ]
  },
  {
   "cell_type": "code",
   "execution_count": 110,
   "id": "5d81dbb5-8b27-40e2-bb99-806cafe30565",
   "metadata": {},
   "outputs": [
    {
     "name": "stdout",
     "output_type": "stream",
     "text": [
      "+----------+---------+--------+---------+---------+--------------------+----------------+--------------+---------+------------------+\n",
      "|CustomerID|UnitPrice|Quantity|InvoiceNo|StockCode|         Description|     InvoiceDate|       Country|Frequency|      total amount|\n",
      "+----------+---------+--------+---------+---------+--------------------+----------------+--------------+---------+------------------+\n",
      "|     17850|     2.55|       6|   536365|   85123A|WHITE HANGING HEA...|01-12-2010 08:26|United Kingdom|      312|15.299999999999999|\n",
      "|     17850|     3.39|       6|   536365|    71053| WHITE METAL LANTERN|01-12-2010 08:26|United Kingdom|      312|             20.34|\n",
      "|     17850|     2.75|       8|   536365|   84406B|CREAM CUPID HEART...|01-12-2010 08:26|United Kingdom|      312|              22.0|\n",
      "|     17850|     3.39|       6|   536365|   84029G|KNITTED UNION FLA...|01-12-2010 08:26|United Kingdom|      312|             20.34|\n",
      "|     17850|     3.39|       6|   536365|   84029E|RED WOOLLY HOTTIE...|01-12-2010 08:26|United Kingdom|      312|             20.34|\n",
      "|     17850|     7.65|       2|   536365|    22752|SET 7 BABUSHKA NE...|01-12-2010 08:26|United Kingdom|      312|              15.3|\n",
      "|     17850|     4.25|       6|   536365|    21730|GLASS STAR FROSTE...|01-12-2010 08:26|United Kingdom|      312|              25.5|\n",
      "|     17850|     1.85|       6|   536366|    22633|HAND WARMER UNION...|01-12-2010 08:28|United Kingdom|      312|11.100000000000001|\n",
      "|     17850|     1.85|       6|   536366|    22632|HAND WARMER RED P...|01-12-2010 08:28|United Kingdom|      312|11.100000000000001|\n",
      "|     13047|     1.69|      32|   536367|    84879|ASSORTED COLOUR B...|01-12-2010 08:34|United Kingdom|      196|             54.08|\n",
      "|     13047|      2.1|       6|   536367|    22745|POPPY'S PLAYHOUSE...|01-12-2010 08:34|United Kingdom|      196|12.600000000000001|\n",
      "|     13047|      2.1|       6|   536367|    22748|POPPY'S PLAYHOUSE...|01-12-2010 08:34|United Kingdom|      196|12.600000000000001|\n",
      "|     13047|     3.75|       8|   536367|    22749|FELTCRAFT PRINCES...|01-12-2010 08:34|United Kingdom|      196|              30.0|\n",
      "|     13047|     1.65|       6|   536367|    22310|IVORY KNITTED MUG...|01-12-2010 08:34|United Kingdom|      196| 9.899999999999999|\n",
      "|     13047|     4.25|       6|   536367|    84969|BOX OF 6 ASSORTED...|01-12-2010 08:34|United Kingdom|      196|              25.5|\n",
      "|     13047|     4.95|       3|   536367|    22623|BOX OF VINTAGE JI...|01-12-2010 08:34|United Kingdom|      196|14.850000000000001|\n",
      "|     13047|     9.95|       2|   536367|    22622|BOX OF VINTAGE AL...|01-12-2010 08:34|United Kingdom|      196|              19.9|\n",
      "|     13047|     5.95|       3|   536367|    21754|HOME BUILDING BLO...|01-12-2010 08:34|United Kingdom|      196|             17.85|\n",
      "|     13047|     5.95|       3|   536367|    21755|LOVE BUILDING BLO...|01-12-2010 08:34|United Kingdom|      196|             17.85|\n",
      "|     13047|     7.95|       4|   536367|    21777|RECIPE BOX WITH M...|01-12-2010 08:34|United Kingdom|      196|              31.8|\n",
      "+----------+---------+--------+---------+---------+--------------------+----------------+--------------+---------+------------------+\n",
      "only showing top 20 rows\n",
      "\n"
     ]
    }
   ],
   "source": [
    "m_val = df3.withColumn(\"total amount\",col(\"Quantity\")*col(\"UnitPrice\"))\n",
    "m_val.show()"
   ]
  },
  {
   "cell_type": "code",
   "execution_count": 111,
   "id": "93125be9-da65-433a-bba8-19af249dc4ee",
   "metadata": {},
   "outputs": [
    {
     "name": "stdout",
     "output_type": "stream",
     "text": [
      "+----------+------------------+\n",
      "|CustomerID|    Monetory_value|\n",
      "+----------+------------------+\n",
      "|     16250|389.44000000000005|\n",
      "|     15574| 702.2500000000002|\n",
      "|     15555| 4710.320000000003|\n",
      "|     15271|           2442.47|\n",
      "|     17714|             153.0|\n",
      "|     17686|           5739.46|\n",
      "|     13865|501.56000000000006|\n",
      "|     14157| 432.8800000000001|\n",
      "|     13610|1115.4299999999996|\n",
      "|     17757| 5293.540000000004|\n",
      "|     17551|            306.84|\n",
      "|     13187|236.01999999999995|\n",
      "|     16549| 4125.270000000001|\n",
      "|     12637| 5953.250000000001|\n",
      "|     15052|            215.78|\n",
      "|     15448|494.64000000000004|\n",
      "|     13985| 6867.029999999999|\n",
      "|     12888|            313.77|\n",
      "|     14525|3961.2700000000004|\n",
      "|     18283|2078.6299999999997|\n",
      "+----------+------------------+\n",
      "only showing top 20 rows\n",
      "\n"
     ]
    }
   ],
   "source": [
    "m_val = m_val.groupBy(\"CustomerID\").agg(sum(\"Total Amount\").alias(\"Monetory_value\"))\n",
    "m_val.show()"
   ]
  },
  {
   "cell_type": "code",
   "execution_count": 112,
   "id": "d000b565-b98f-45b5-ae56-ef05ad1719fc",
   "metadata": {},
   "outputs": [
    {
     "name": "stdout",
     "output_type": "stream",
     "text": [
      "+----------+------------------+---------+--------+---------+---------+--------------------+----------------+--------------+---------+\n",
      "|CustomerID|    Monetory_value|UnitPrice|Quantity|InvoiceNo|StockCode|         Description|     InvoiceDate|       Country|Frequency|\n",
      "+----------+------------------+---------+--------+---------+---------+--------------------+----------------+--------------+---------+\n",
      "|     16250|389.44000000000005|     5.95|       3|   536388|    21754|HOME BUILDING BLO...|01-12-2010 09:59|United Kingdom|       24|\n",
      "|     16250|389.44000000000005|     5.95|       3|   536388|    21755|LOVE BUILDING BLO...|01-12-2010 09:59|United Kingdom|       24|\n",
      "|     16250|389.44000000000005|     7.95|       2|   536388|    21523|DOORMAT FANCY FON...|01-12-2010 09:59|United Kingdom|       24|\n",
      "|     16250|389.44000000000005|     4.95|       3|   536388|    21363|HOME SMALL WOOD L...|01-12-2010 09:59|United Kingdom|       24|\n",
      "|     16250|389.44000000000005|     4.25|       3|   536388|    21411|GINGHAM HEART  DO...|01-12-2010 09:59|United Kingdom|       24|\n",
      "|     16250|389.44000000000005|     2.95|       6|   536388|    22318|FIVE HEART HANGIN...|01-12-2010 09:59|United Kingdom|       24|\n",
      "|     16250|389.44000000000005|     1.65|      12|   536388|    22464|HANGING METAL HEA...|01-12-2010 09:59|United Kingdom|       24|\n",
      "|     16250|389.44000000000005|     0.42|      12|   536388|    22915|ASSORTED BOTTLE T...|01-12-2010 09:59|United Kingdom|       24|\n",
      "|     16250|389.44000000000005|     0.85|      12|   536388|    22922|FRIDGE MAGNETS US...|01-12-2010 09:59|United Kingdom|       24|\n",
      "|     16250|389.44000000000005|     1.45|      12|   536388|    22969|HOMEMADE JAM SCEN...|01-12-2010 09:59|United Kingdom|       24|\n",
      "|     16250|389.44000000000005|     0.85|      12|   536388|    22923|FRIDGE MAGNETS LE...|01-12-2010 09:59|United Kingdom|       24|\n",
      "|     16250|389.44000000000005|     6.75|       4|   536388|    21115|ROSE CARAVAN DOOR...|01-12-2010 09:59|United Kingdom|       24|\n",
      "|     16250|389.44000000000005|     1.65|      12|   536388|    22469|HEART OF WICKER S...|01-12-2010 09:59|United Kingdom|       24|\n",
      "|     16250|389.44000000000005|     1.65|      12|   536388|    22242|5 HOOK HANGER MAG...|01-12-2010 09:59|United Kingdom|       24|\n",
      "|     15574| 702.2500000000002|     4.25|       1|   536796|    22376|AIRLINE BAG VINTA...|02-12-2010 15:46|United Kingdom|      168|\n",
      "|     15574| 702.2500000000002|     1.65|       1|   536796|    22174|          PHOTO CUBE|02-12-2010 15:46|United Kingdom|      168|\n",
      "|     15574| 702.2500000000002|      2.1|       1|   536796|    22745|POPPY'S PLAYHOUSE...|02-12-2010 15:46|United Kingdom|      168|\n",
      "|     15574| 702.2500000000002|     2.95|       1|   536796|    20665|RED RETROSPOT PURSE |02-12-2010 15:46|United Kingdom|      168|\n",
      "|     15574| 702.2500000000002|     0.85|       1|   536796|    21719|LOVELY BONBON STI...|02-12-2010 15:46|United Kingdom|      168|\n",
      "|     15574| 702.2500000000002|     1.65|       1|   536796|    22906|12 MESSAGE CARDS ...|02-12-2010 15:46|United Kingdom|      168|\n",
      "+----------+------------------+---------+--------+---------+---------+--------------------+----------------+--------------+---------+\n",
      "only showing top 20 rows\n",
      "\n"
     ]
    }
   ],
   "source": [
    "finaldf = m_val.join(df3,on=\"CustomerID\",how=\"inner\")\n",
    "finaldf.show()"
   ]
  },
  {
   "cell_type": "code",
   "execution_count": 115,
   "id": "ca1f84fb-8a88-407e-a4be-15b1a3d92a72",
   "metadata": {},
   "outputs": [
    {
     "name": "stdout",
     "output_type": "stream",
     "text": [
      "+----------+------------------+---------+--------+---------+---------+--------------------+----------------+--------------+---------+--------------------+--------------------+\n",
      "|CustomerID|    Monetory_value|UnitPrice|Quantity|InvoiceNo|StockCode|         Description|     InvoiceDate|       Country|Frequency|            Features|        Standardized|\n",
      "+----------+------------------+---------+--------+---------+---------+--------------------+----------------+--------------+---------+--------------------+--------------------+\n",
      "|     16250|389.44000000000005|     5.95|     3.0|   536388|    21754|HOME BUILDING BLO...|01-12-2010 09:59|United Kingdom|       24|[3.0,389.44000000...|[0.01695604745230...|\n",
      "|     16250|389.44000000000005|     5.95|     3.0|   536388|    21755|LOVE BUILDING BLO...|01-12-2010 09:59|United Kingdom|       24|[3.0,389.44000000...|[0.01695604745230...|\n",
      "|     16250|389.44000000000005|     7.95|     2.0|   536388|    21523|DOORMAT FANCY FON...|01-12-2010 09:59|United Kingdom|       24|[2.0,389.44000000...|[0.01130403163487...|\n",
      "|     16250|389.44000000000005|     4.95|     3.0|   536388|    21363|HOME SMALL WOOD L...|01-12-2010 09:59|United Kingdom|       24|[3.0,389.44000000...|[0.01695604745230...|\n",
      "|     16250|389.44000000000005|     4.25|     3.0|   536388|    21411|GINGHAM HEART  DO...|01-12-2010 09:59|United Kingdom|       24|[3.0,389.44000000...|[0.01695604745230...|\n",
      "|     16250|389.44000000000005|     2.95|     6.0|   536388|    22318|FIVE HEART HANGIN...|01-12-2010 09:59|United Kingdom|       24|[6.0,389.44000000...|[0.03391209490461...|\n",
      "|     16250|389.44000000000005|     1.65|    12.0|   536388|    22464|HANGING METAL HEA...|01-12-2010 09:59|United Kingdom|       24|[12.0,389.4400000...|[0.06782418980922...|\n",
      "|     16250|389.44000000000005|     0.42|    12.0|   536388|    22915|ASSORTED BOTTLE T...|01-12-2010 09:59|United Kingdom|       24|[12.0,389.4400000...|[0.06782418980922...|\n",
      "|     16250|389.44000000000005|     0.85|    12.0|   536388|    22922|FRIDGE MAGNETS US...|01-12-2010 09:59|United Kingdom|       24|[12.0,389.4400000...|[0.06782418980922...|\n",
      "|     16250|389.44000000000005|     1.45|    12.0|   536388|    22969|HOMEMADE JAM SCEN...|01-12-2010 09:59|United Kingdom|       24|[12.0,389.4400000...|[0.06782418980922...|\n",
      "|     16250|389.44000000000005|     0.85|    12.0|   536388|    22923|FRIDGE MAGNETS LE...|01-12-2010 09:59|United Kingdom|       24|[12.0,389.4400000...|[0.06782418980922...|\n",
      "|     16250|389.44000000000005|     6.75|     4.0|   536388|    21115|ROSE CARAVAN DOOR...|01-12-2010 09:59|United Kingdom|       24|[4.0,389.44000000...|[0.02260806326974...|\n",
      "|     16250|389.44000000000005|     1.65|    12.0|   536388|    22469|HEART OF WICKER S...|01-12-2010 09:59|United Kingdom|       24|[12.0,389.4400000...|[0.06782418980922...|\n",
      "|     16250|389.44000000000005|     1.65|    12.0|   536388|    22242|5 HOOK HANGER MAG...|01-12-2010 09:59|United Kingdom|       24|[12.0,389.4400000...|[0.06782418980922...|\n",
      "|     15574| 702.2500000000002|     4.25|     1.0|   536796|    22376|AIRLINE BAG VINTA...|02-12-2010 15:46|United Kingdom|      168|[1.0,702.25000000...|[0.00565201581743...|\n",
      "|     15574| 702.2500000000002|     1.65|     1.0|   536796|    22174|          PHOTO CUBE|02-12-2010 15:46|United Kingdom|      168|[1.0,702.25000000...|[0.00565201581743...|\n",
      "|     15574| 702.2500000000002|      2.1|     1.0|   536796|    22745|POPPY'S PLAYHOUSE...|02-12-2010 15:46|United Kingdom|      168|[1.0,702.25000000...|[0.00565201581743...|\n",
      "|     15574| 702.2500000000002|     2.95|     1.0|   536796|    20665|RED RETROSPOT PURSE |02-12-2010 15:46|United Kingdom|      168|[1.0,702.25000000...|[0.00565201581743...|\n",
      "|     15574| 702.2500000000002|     0.85|     1.0|   536796|    21719|LOVELY BONBON STI...|02-12-2010 15:46|United Kingdom|      168|[1.0,702.25000000...|[0.00565201581743...|\n",
      "|     15574| 702.2500000000002|     1.65|     1.0|   536796|    22906|12 MESSAGE CARDS ...|02-12-2010 15:46|United Kingdom|      168|[1.0,702.25000000...|[0.00565201581743...|\n",
      "+----------+------------------+---------+--------+---------+---------+--------------------+----------------+--------------+---------+--------------------+--------------------+\n",
      "only showing top 20 rows\n",
      "\n"
     ]
    }
   ],
   "source": [
    "from pyspark.ml.feature import VectorAssembler\n",
    "from pyspark.ml.feature import StandardScaler\n",
    "\n",
    "finaldf = finaldf.withColumn('Quantity', col('Quantity').cast('double'))\n",
    "\n",
    "assemble = VectorAssembler(inputCols=['Quantity', 'Monetory_value','Frequency'], outputCol='Features')\n",
    "assembled_data = assemble.transform(finaldf)\n",
    "\n",
    "scale = StandardScaler(inputCol='Features', outputCol='Standardized')\n",
    "data_scale = scale.fit(assembled_data)\n",
    "data_scale_output = data_scale.transform(assembled_data)\n",
    "data_scale_output.show()\n",
    "\n"
   ]
  },
  {
   "cell_type": "code",
   "execution_count": null,
   "id": "d15c53f3-e80b-4007-b002-72678169c088",
   "metadata": {},
   "outputs": [],
   "source": []
  },
  {
   "cell_type": "code",
   "execution_count": null,
   "id": "49cc7a9a-1c6d-48b1-bd52-f0a7d7236dd0",
   "metadata": {},
   "outputs": [],
   "source": []
  }
 ],
 "metadata": {
  "kernelspec": {
   "display_name": "Python 3 (ipykernel)",
   "language": "python",
   "name": "python3"
  },
  "language_info": {
   "codemirror_mode": {
    "name": "ipython",
    "version": 3
   },
   "file_extension": ".py",
   "mimetype": "text/x-python",
   "name": "python",
   "nbconvert_exporter": "python",
   "pygments_lexer": "ipython3",
   "version": "3.11.9"
  }
 },
 "nbformat": 4,
 "nbformat_minor": 5
}
