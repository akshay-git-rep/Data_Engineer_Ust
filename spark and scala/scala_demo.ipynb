{
 "cells": [
  {
   "cell_type": "code",
   "execution_count": 1,
   "id": "c4c51ed4-45f4-4df3-bf6d-48a10976f945",
   "metadata": {},
   "outputs": [
    {
     "data": {
      "text/plain": [
       "Intitializing Scala interpreter ..."
      ]
     },
     "metadata": {},
     "output_type": "display_data"
    },
    {
     "data": {
      "text/plain": [
       "Spark Web UI available at http://172.19.47.131:4041\n",
       "SparkContext available as 'sc' (version = 3.5.2, master = local[*], app id = local-1725596997605)\n",
       "SparkSession available as 'spark'\n"
      ]
     },
     "metadata": {},
     "output_type": "display_data"
    },
    {
     "data": {
      "text/plain": [
       "x: Int = 2\r\n",
       "y: Int = 3\r\n",
       "res0: Int = 6\r\n"
      ]
     },
     "execution_count": 1,
     "metadata": {},
     "output_type": "execute_result"
    }
   ],
   "source": [
    "val x = 2\n",
    "val y = 3\n",
    "x*y"
   ]
  },
  {
   "cell_type": "code",
   "execution_count": 2,
   "id": "01009f90-2d4c-4e53-be4a-34b67c584a3b",
   "metadata": {},
   "outputs": [
    {
     "name": "stdout",
     "output_type": "stream",
     "text": [
      "Hello World\n"
     ]
    }
   ],
   "source": [
    "println(\"Hello World\")"
   ]
  },
  {
   "cell_type": "code",
   "execution_count": 3,
   "id": "2615d0f6-50b0-4fac-881c-ad39daa6bc2c",
   "metadata": {},
   "outputs": [
    {
     "name": "stdout",
     "output_type": "stream",
     "text": [
      "Good Morning\n"
     ]
    },
    {
     "data": {
      "text/plain": [
       "msg: String = Good Morning\r\n"
      ]
     },
     "execution_count": 3,
     "metadata": {},
     "output_type": "execute_result"
    }
   ],
   "source": [
    "/*\n",
    "Scala is case sensitive\n",
    "ClassName in scala follows the pascal casing - OfficeAddress\n",
    "MehtodNames in scala follows the camel casing - getOfficeAddress()\n",
    "Program file name  it should match the object name\n",
    "Identifiers start with a letter or an underscore which can be followed by further letters, digits or underscores. \n",
    "The $ word is the reserved word is scala and should not be used as identifiers\n",
    "Below is list of reserved keywords\n",
    "for eg: dob, _value, _1_age \n",
    "abstract\tcase\tcatch\tclass\n",
    "def\tdo\telse\textends\n",
    "false\tfinal\tfinally\tfor\n",
    "forSome\tif\timplicit\timport\n",
    "lazy\tmatch\tnew\tNull\n",
    "object\toverride\tpackage\tprivate\n",
    "protected\treturn\tsealed\tsuper\n",
    "this\tthrow\ttrait\tTry\n",
    "true\ttype\tval\tVar\n",
    "while\twith\tyield\t \n",
    "-\t:\t=\t=>\n",
    "<-\t<:\t<%\t>:\n",
    "#\t@\t\t\n",
    "*/\n",
    "// This is singleline comment\n",
    "val msg = \"Good Morning\" \n",
    "println(msg)"
   ]
  },
  {
   "cell_type": "code",
   "execution_count": 7,
   "id": "4bfc9b27-0cc2-46e0-9e51-292cd8f67900",
   "metadata": {},
   "outputs": [
    {
     "name": "stdout",
     "output_type": "stream",
     "text": [
      "Addition of : 10+20+10+10 = 50\n"
     ]
    },
    {
     "data": {
      "text/plain": [
       "defined class Calculator\r\n",
       "c: Calculator = Calculator@3fd7bd6a\r\n"
      ]
     },
     "execution_count": 7,
     "metadata": {},
     "output_type": "execute_result"
    }
   ],
   "source": [
    "//Datatype in scala\n",
    "/*\n",
    "Byte, Short, Int, Long, Float, Double, char, String, Boolean,Unit, Null, Nothing, Any, Anyref\n",
    "*/\n",
    "/*\n",
    "var firstName: String = \"Parag\"\n",
    "\n",
    "val firstName : String = \"Joshi\"\n",
    "\n",
    "var num =10\n",
    "val name = \"Parag Joshi\"\n",
    "\n",
    "var (name,age) = Pair(\"Parag\", 40)\n",
    "*/\n",
    "class Calculator(num1:Int, num2:Int){\n",
    "    var num_1:Int = num1\n",
    "    var num_2:Int = num2\n",
    "\n",
    "    def add(x:Int, y:Int){\n",
    "        var result = num_1+x+y+num_2 ;\n",
    "        println(\"Addition of : \" + num_1 + \"+\" + num_2  + \"+\" + x + \"+\" + y + \" = \" + result)\n",
    "    }\n",
    "}\n",
    "\n",
    "val c = new Calculator(10,20)\n",
    "c.add(10,10)"
   ]
  },
  {
   "cell_type": "code",
   "execution_count": 8,
   "id": "d34cc279-73e5-485e-9294-9fe25bf0f7e8",
   "metadata": {},
   "outputs": [
    {
     "name": "stdout",
     "output_type": "stream",
     "text": [
      "Company Hematite Infotech Address - C704 Pune Maharashtra 411017\n"
     ]
    },
    {
     "data": {
      "text/plain": [
       "defined class Address\r\n",
       "defined class Company\r\n",
       "c: Company = Company@6266d35d\r\n"
      ]
     },
     "execution_count": 8,
     "metadata": {},
     "output_type": "execute_result"
    }
   ],
   "source": [
    "class Address (val street: String, val state:String ,val pincode: Long){\n",
    "    val st = street\n",
    "    val stat = state\n",
    "    val zipcode = pincode\n",
    "\n",
    "    def getAddress(city:String){\n",
    "        val address = st + \" \" + city + \" \" + stat + \" \" + zipcode\n",
    "        println(\"Addres - \" + address)\n",
    "    }\n",
    "}\n",
    "class Company(override val street:String, override val state:String, override val pincode:Long, val cname:String) extends Address(street,state,pincode){\n",
    "    var companyname:String = cname\n",
    "    \n",
    "     override def getAddress(city:String){\n",
    "        val address = st + \" \" + city + \" \" + stat + \" \" + zipcode\n",
    "        println(\"Company \" + companyname + \" Address - \" + address)\n",
    "    } \n",
    "}\n",
    "val c = new Company(\"C704\", \"Maharashtra\", 411017,\"Hematite Infotech\")\n",
    "c.getAddress(\"Pune\")"
   ]
  },
  {
   "cell_type": "code",
   "execution_count": 9,
   "id": "19003af8-99d4-436b-90ef-809a62d7678f",
   "metadata": {},
   "outputs": [
    {
     "name": "stdout",
     "output_type": "stream",
     "text": [
      "Eligible to vote\n",
      "fail\n"
     ]
    },
    {
     "data": {
      "text/plain": [
       "yob: Int = 1979\r\n",
       "age: Int = 45\r\n",
       "total_marks: Int = 100\r\n",
       "per: Int = 33\r\n"
      ]
     },
     "execution_count": 9,
     "metadata": {},
     "output_type": "execute_result"
    }
   ],
   "source": [
    "var yob = 1979\n",
    "var age =2024 - yob\n",
    "if (age > 18){\n",
    "    println(\"Eligible to vote\")\n",
    "}\n",
    "else\n",
    "{\n",
    "    println(\"Not eligible for vote\")\n",
    "}\n",
    "\n",
    "var total_marks = 100\n",
    "var per = 100*total_marks/300\n",
    "if (per >= 75){\n",
    "    println(\"distinction\")\n",
    "}\n",
    "else if (per>=60 && per <75)\n",
    "{\n",
    "    println(\"First class\")\n",
    "}\n",
    "else if (per>=50 && per <60)\n",
    "{\n",
    "    println(\"Second class\")\n",
    "}\n",
    "else if (per>=35 && per <50)\n",
    "{\n",
    "    println(\"Third class\")\n",
    "}\n",
    "else\n",
    "{\n",
    "    println(\"fail\")\n",
    "}"
   ]
  },
  {
   "cell_type": "code",
   "execution_count": 10,
   "id": "5b06a5f3-01ed-4a53-b9ba-02c60803b99d",
   "metadata": {},
   "outputs": [
    {
     "name": "stdout",
     "output_type": "stream",
     "text": [
      "factorial of 6 is 720\n"
     ]
    },
    {
     "data": {
      "text/plain": [
       "factof: Int = 1\r\n",
       "fact: Int = 720\r\n"
      ]
     },
     "execution_count": 10,
     "metadata": {},
     "output_type": "execute_result"
    }
   ],
   "source": [
    "var factof : Int = 6\n",
    "var fact = 1\n",
    "while(factof > 1){\n",
    "    \n",
    "    fact = fact*factof\n",
    "    factof = factof - 1\n",
    "}\n",
    "println(\"factorial of 6 is \" + fact)\n"
   ]
  },
  {
   "cell_type": "code",
   "execution_count": 12,
   "id": "ff74e150-dc61-47a8-9e9b-a3c61224cc20",
   "metadata": {},
   "outputs": [
    {
     "name": "stdout",
     "output_type": "stream",
     "text": [
      "total of numbers from 1 to 20 is 190"
     ]
    },
    {
     "data": {
      "text/plain": [
       "num: Int = 0\r\n",
       "total: Int = 190\r\n"
      ]
     },
     "execution_count": 12,
     "metadata": {},
     "output_type": "execute_result"
    }
   ],
   "source": [
    "var num=0\n",
    "var total  =0\n",
    "for(num <- 1 until 20){\n",
    "    total += num\n",
    "}\n",
    "print(\"total of numbers from 1 to 20 is \" + total)\n",
    "\n"
   ]
  },
  {
   "cell_type": "code",
   "execution_count": 13,
   "id": "41df5bb4-8922-4d72-8e3f-d7c9b98d4d04",
   "metadata": {},
   "outputs": [
    {
     "name": "stdout",
     "output_type": "stream",
     "text": [
      "1\n",
      "2\n",
      "3\n",
      "4\n",
      "2\n",
      "4\n",
      "6\n",
      "8\n",
      "3\n",
      "6\n",
      "9\n",
      "12\n",
      "4\n",
      "8\n",
      "12\n",
      "16\n",
      "5\n",
      "10\n",
      "15\n",
      "20\n"
     ]
    },
    {
     "data": {
      "text/plain": [
       "num: Int = 0\r\n",
       "pow: Int = 0\r\n"
      ]
     },
     "execution_count": 13,
     "metadata": {},
     "output_type": "execute_result"
    }
   ],
   "source": [
    "var num = 0\n",
    "var pow = 0\n",
    "for(num <- 1 to 5;pow <-1 to 4){\n",
    "    var result = num * pow\n",
    "    println(result)\n",
    "\n",
    "}"
   ]
  },
  {
   "cell_type": "code",
   "execution_count": 14,
   "id": "41703cac-6011-477f-bd22-508b172b2ac4",
   "metadata": {},
   "outputs": [
    {
     "name": "stdout",
     "output_type": "stream",
     "text": [
      "multipler(2) value = 240\n",
      "multipler(149) value = 17880\n",
      "length of msg 14\n",
      "fullname: ParagJoshi\n"
     ]
    },
    {
     "data": {
      "text/plain": [
       "num: Int = 120\r\n",
       "multiplier: Int => Int = $Lambda/0x000001ebc2a0b630@5d3dae64\r\n",
       "msg: String = Good Afternoon\r\n",
       "fname: String = Parag\r\n",
       "lname: String = Joshi\r\n",
       "fullname: String = ParagJoshi\r\n"
      ]
     },
     "execution_count": 14,
     "metadata": {},
     "output_type": "execute_result"
    }
   ],
   "source": [
    "\n",
    "/* Closures - It is a function whose return value depends on the value of one or more variables declared outside this function\n",
    "\n",
    "*/\n",
    "var num = 120\n",
    "var multiplier = (i:Int) => i*num\n",
    "println(\"multipler(2) value = \" + multiplier(2))\n",
    "println(\"multipler(149) value = \" + multiplier(149))\n",
    "\n",
    "var msg = \"Good Afternoon\"\n",
    "println(\"length of msg \" + msg.length())\n",
    "var fname = \"Parag\"\n",
    "var lname = \"Joshi\"\n",
    "var fullname = fname.concat(lname)\n",
    "println(\"fullname: \" + fullname)"
   ]
  },
  {
   "cell_type": "code",
   "execution_count": 16,
   "id": "d3a40d3a-7eea-43e6-8f8c-d6dd5d845818",
   "metadata": {},
   "outputs": [
    {
     "name": "stdout",
     "output_type": "stream",
     "text": [
      "Hello,Parag\n",
      "25*25 = 625\n"
     ]
    },
    {
     "data": {
      "text/plain": [
       "fname: String = Parag\r\n"
      ]
     },
     "execution_count": 16,
     "metadata": {},
     "output_type": "execute_result"
    }
   ],
   "source": [
    "var fname = \"Parag\"\n",
    "println(s\"Hello,$fname\")\n",
    "\n",
    "println(s\"25*25 = ${25*25}\")\n",
    "\n",
    "\n"
   ]
  },
  {
   "cell_type": "code",
   "execution_count": 17,
   "id": "2dfc620d-81a7-455c-a863-a47baee29b27",
   "metadata": {},
   "outputs": [
    {
     "name": "stdout",
     "output_type": "stream",
     "text": [
      "Parag is having 5.65 meters\n",
      "Result = \\n a \\n b\n"
     ]
    },
    {
     "data": {
      "text/plain": [
       "height: Double = 5.6493\r\n",
       "fname: String = Parag\r\n"
      ]
     },
     "execution_count": 17,
     "metadata": {},
     "output_type": "execute_result"
    }
   ],
   "source": [
    "var height = 5.6493d\n",
    "val fname = \"Parag\"\n",
    "println(f\"$fname%s is having $height%2.2f meters\")\n",
    "\n",
    "println(raw\"Result = \\n a \\n b\")"
   ]
  },
  {
   "cell_type": "code",
   "execution_count": 18,
   "id": "c05114e2-dd73-4c05-9381-519d0cd2b4e3",
   "metadata": {},
   "outputs": [
    {
     "name": "stdout",
     "output_type": "stream",
     "text": [
      "Mon\n",
      "Tue\n",
      "Wed\n",
      "Thu\n",
      "Fri\n",
      "Sat\n",
      "Sun\n",
      "Array element at position 2 Wed\n",
      "Array length 7\n"
     ]
    },
    {
     "data": {
      "text/plain": [
       "weeknum: Array[String] = Array(first)\r\n",
       "weekdays: Array[String] = Array(Mon, Tue, Wed, Thu, Fri, Sat, Sun)\r\n"
      ]
     },
     "execution_count": 18,
     "metadata": {},
     "output_type": "execute_result"
    }
   ],
   "source": [
    "var weeknum = Array(\"first\")\n",
    "var weekdays = Array(\"Mon\",\"Tue\",\"Wed\",\"Thu\",\"Fri\",\"Sat\",\"Sun\")\n",
    "//var wdn = concat(weekdays,weeknum)\n",
    "\n",
    "for(wd<-weekdays){\n",
    "    println(wd)\n",
    "}\n",
    "\n",
    "println(\"Array element at position 2 \" + weekdays(2))\n",
    "println(\"Array length \" + weekdays.length)"
   ]
  },
  {
   "cell_type": "code",
   "execution_count": 19,
   "id": "fad1b6c0-a5e8-4c0a-ba4e-d5af20da7e23",
   "metadata": {},
   "outputs": [
    {
     "name": "stdout",
     "output_type": "stream",
     "text": [
      "13\n",
      "10\n",
      "19\n",
      "45\n",
      "59\n"
     ]
    },
    {
     "data": {
      "text/plain": [
       "itr: Iterator[Int] = <iterator>\r\n",
       "itr_1: Iterator[Int] = <iterator>\r\n"
      ]
     },
     "execution_count": 19,
     "metadata": {},
     "output_type": "execute_result"
    }
   ],
   "source": [
    "val itr = Iterator(13,10,19,45,59)\n",
    "val itr_1 = Iterator(13,10,19,45,59)\n",
    "//println(itr.min)\n",
    "//println(itr_1.max)\n",
    "//println(itr.size)\n",
    "//println(itr_1.length)\n",
    "while(itr.hasNext){\n",
    "    println(itr.next())\n",
    "}"
   ]
  },
  {
   "cell_type": "code",
   "execution_count": 20,
   "id": "ff513d1d-b63a-4a9b-bd01-30a9aaa8f114",
   "metadata": {},
   "outputs": [
    {
     "name": "stdout",
     "output_type": "stream",
     "text": [
      "true\n",
      "false\n",
      "true\n"
     ]
    },
    {
     "data": {
      "text/plain": [
       "defined trait Equal\r\n",
       "defined class Point\r\n",
       "p1: Point = Point@4a342d23\r\n",
       "p2: Point = Point@3e900002\r\n",
       "p3: Point = Point@6ec77589\r\n"
      ]
     },
     "execution_count": 20,
     "metadata": {},
     "output_type": "execute_result"
    }
   ],
   "source": [
    "/* \n",
    "Traits - A trait encapsulates method and field definitions which can then be reused by mixing them into classes\n",
    "Trait are used to define object types by specifying the signature of the supported methods\n",
    "*/\n",
    "\n",
    "trait Equal{\n",
    "    def isEqual(anyvalue:Any):Boolean\n",
    "    def isNotEquals(anyvalue:Any):Boolean = !isEqual(anyvalue)\n",
    "}\n",
    "\n",
    "class Point(xc:Int, yc:Int) extends Equal{\n",
    "    var x:Int = xc;\n",
    "    var y:Int = yc;\n",
    "\n",
    "    def isEqual(obj:Any) = obj.isInstanceOf[Point] && obj.asInstanceOf[Point].x == y\n",
    "}\n",
    "\n",
    "val p1 = new Point(2,3)\n",
    "val p2 = new Point(2,4)\n",
    "val p3 = new Point(3,3)\n",
    "\n",
    "println(p1.isNotEquals(p2))\n",
    "println(p1.isNotEquals(p3))\n",
    "println(p1.isNotEquals(2))"
   ]
  },
  {
   "cell_type": "code",
   "execution_count": 21,
   "id": "53b7047f-4bfa-46e6-a09b-482f7f90bf79",
   "metadata": {},
   "outputs": [
    {
     "name": "stdout",
     "output_type": "stream",
     "text": [
      "Drawing the  Square\n",
      "Drawing the Rectangle\n"
     ]
    },
    {
     "data": {
      "text/plain": [
       "defined trait Shape\r\n",
       "defined class Square\r\n",
       "defined class Rectangle\r\n",
       "s: Square = Square@3a7018d7\r\n",
       "r: Rectangle = Rectangle@3705ca67\r\n"
      ]
     },
     "execution_count": 21,
     "metadata": {},
     "output_type": "execute_result"
    }
   ],
   "source": [
    "trait Shape {\n",
    "    def draw()\n",
    "}\n",
    "\n",
    "class Square extends Shape{\n",
    "    def draw(){\n",
    "        println(\"Drawing the  Square\")\n",
    "    }\n",
    "}\n",
    "class Rectangle extends Shape{\n",
    "    def draw(){\n",
    "        println(\"Drawing the Rectangle\")\n",
    "    }\n",
    "}\n",
    "\n",
    "val s  = new Square()\n",
    "s.draw()\n",
    "val r = new Rectangle()\n",
    "r.draw()\n",
    "\n"
   ]
  },
  {
   "cell_type": "code",
   "execution_count": 22,
   "id": "f589d3d5-757d-4e92-848e-81915b30e744",
   "metadata": {},
   "outputs": [
    {
     "name": "stdout",
     "output_type": "stream",
     "text": [
      "Calling the Class Method\n",
      "Make of the Car : Mercedes Benz\n",
      "Model of the Car : S350D\n",
      "Fuel capacity of the Car : 50\n",
      "Calling the Trait Method\n",
      "Make of the Car : BMW\n",
      "Model of the Car : X7\n",
      "Fuel capacity of the Car : 40\n"
     ]
    },
    {
     "data": {
      "text/plain": [
       "defined trait BMW\r\n",
       "defined class Car\r\n",
       "obj: Car = Car@17d9663c\r\n"
      ]
     },
     "execution_count": 22,
     "metadata": {},
     "output_type": "execute_result"
    }
   ],
   "source": [
    "trait BMW{\n",
    "\n",
    "    // trait variables\n",
    "    var make: String = \"BMW\"\n",
    "    var model: String = \"X7\"\n",
    "    var fuel: Int = 40\n",
    "\n",
    "    // trait method: NON-ABSTRACT\n",
    "    def Display()\n",
    "    {\n",
    "        println(\"Make of the Car : \" + make);\n",
    "        println(\"Model of the Car : \" + model);\n",
    "        println(\"Fuel capacity of the Car : \" + fuel);\n",
    "    }\n",
    "}\n",
    "\n",
    "class Car extends BMW{\n",
    "    // class variables\n",
    "    var make1: String = \"Mercedes Benz\"\n",
    "    var model1: String = \"S350D\"\n",
    "    var fuel1: Int = 50\n",
    "\n",
    "    // Class method\n",
    "    def Merc_Specs()\n",
    "    {\n",
    "        println(\"Make of the Car : \" + make1);\n",
    "        println(\"Model of the Car : \" + model1);\n",
    "        println(\"Fuel capacity of the Car : \" + fuel1);\n",
    "    }\n",
    "}\n",
    "\n",
    "        // Class object\n",
    "        var obj = new Car();\n",
    "        println(\"Calling the Class Method\")\n",
    "        obj.Merc_Specs();\n",
    "        println(\"Calling the Trait Method\")\n",
    "        obj.Display();"
   ]
  },
  {
   "cell_type": "code",
   "execution_count": null,
   "id": "03b97213-32a5-4299-ba97-91f436959e25",
   "metadata": {},
   "outputs": [],
   "source": []
  }
 ],
 "metadata": {
  "kernelspec": {
   "display_name": "spylon-kernel",
   "language": "scala",
   "name": "spylon-kernel"
  },
  "language_info": {
   "codemirror_mode": "text/x-scala",
   "file_extension": ".scala",
   "help_links": [
    {
     "text": "MetaKernel Magics",
     "url": "https://metakernel.readthedocs.io/en/latest/source/README.html"
    }
   ],
   "mimetype": "text/x-scala",
   "name": "scala",
   "pygments_lexer": "scala",
   "version": "0.4.1"
  }
 },
 "nbformat": 4,
 "nbformat_minor": 5
}
